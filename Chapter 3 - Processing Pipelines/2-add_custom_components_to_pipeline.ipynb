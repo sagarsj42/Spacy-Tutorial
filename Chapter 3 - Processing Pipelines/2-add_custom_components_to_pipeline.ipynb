{
 "cells": [
  {
   "cell_type": "code",
   "execution_count": 1,
   "metadata": {},
   "outputs": [],
   "source": [
    "import spacy\n",
    "from spacy.matcher import PhraseMatcher\n",
    "from spacy.tokens import Span"
   ]
  },
  {
   "cell_type": "code",
   "execution_count": 2,
   "metadata": {},
   "outputs": [
    {
     "data": {
      "text/plain": [
       "[('tagger', <spacy.pipeline.pipes.Tagger at 0x25c32e67100>),\n",
       " ('parser', <spacy.pipeline.pipes.DependencyParser at 0x25c32d38a00>),\n",
       " ('ner', <spacy.pipeline.pipes.EntityRecognizer at 0x25c32d389a0>)]"
      ]
     },
     "execution_count": 2,
     "metadata": {},
     "output_type": "execute_result"
    }
   ],
   "source": [
    "# Load a model\n",
    "nlp = spacy.load('en_core_web_sm')\n",
    "nlp.pipeline"
   ]
  },
  {
   "cell_type": "code",
   "execution_count": 3,
   "metadata": {},
   "outputs": [],
   "source": [
    "# Create a custom component\n",
    "# Fundamentally, such a component takes in a doc object, process it and returns\n",
    "\n",
    "def custom_component(doc):\n",
    "    print('Doc text:', doc.text, '\\n')\n",
    "    print('Doc length:', len(doc))\n",
    "    \n",
    "    return doc"
   ]
  },
  {
   "cell_type": "code",
   "execution_count": 4,
   "metadata": {},
   "outputs": [
    {
     "data": {
      "text/plain": [
       "[('tagger', <spacy.pipeline.pipes.Tagger at 0x25c32e67100>),\n",
       " ('parser', <spacy.pipeline.pipes.DependencyParser at 0x25c32d38a00>),\n",
       " ('custom_component', <function __main__.custom_component(doc)>),\n",
       " ('ner', <spacy.pipeline.pipes.EntityRecognizer at 0x25c32d389a0>)]"
      ]
     },
     "execution_count": 4,
     "metadata": {},
     "output_type": "execute_result"
    }
   ],
   "source": [
    "# Add the component to pipe\n",
    "# Options available: \n",
    "# last = True/False\n",
    "# first = True/False\n",
    "# before/after = [name of the component in pipe]\n",
    "\n",
    "nlp.add_pipe(custom_component, before='ner')\n",
    "\n",
    "# View the pipe\n",
    "nlp.pipeline"
   ]
  },
  {
   "cell_type": "code",
   "execution_count": 5,
   "metadata": {},
   "outputs": [
    {
     "name": "stdout",
     "output_type": "stream",
     "text": [
      "Doc text: Hello, world! \n",
      "\n",
      "Doc length: 4\n"
     ]
    }
   ],
   "source": [
    "# Run the pipeline by creating a doc object\n",
    "doc = nlp('Hello, world!')"
   ]
  },
  {
   "cell_type": "code",
   "execution_count": 6,
   "metadata": {},
   "outputs": [],
   "source": [
    "# Add the component:\n",
    "# Find the animal names in doc from a given set of names, add them to document entities\n",
    "\n",
    "# Load the model\n",
    "nlp = spacy.load('en_core_web_sm')\n",
    "\n",
    "# Given animal names\n",
    "animals = ['Golden Retriever', 'cat', 'turtle', 'Rattus norvegicus']\n",
    "\n",
    "# Initialize matcher\n",
    "matcher = PhraseMatcher(nlp.vocab)\n",
    "\n",
    "# Create animals pattern, add to matcher\n",
    "animals_pattern = nlp.pipe(animals)\n",
    "matcher.add('ANIMALS_PATTERN', None, *animals_pattern)"
   ]
  },
  {
   "cell_type": "code",
   "execution_count": 7,
   "metadata": {},
   "outputs": [],
   "source": [
    "# Define the custom component\n",
    "def animals_component(doc):    \n",
    "    # Find the matches, create spans for each match, add the obtained list to document entities\n",
    "    matches = matcher(doc)\n",
    "    animal_spans = [Span(doc, start_index, end_index, label='ANIMAL') for _, start_index, end_index in matches]\n",
    "    \n",
    "    doc.ents = tuple(list(doc.ents) + animal_spans)\n",
    "    \n",
    "    return doc"
   ]
  },
  {
   "cell_type": "code",
   "execution_count": 8,
   "metadata": {},
   "outputs": [
    {
     "data": {
      "text/plain": [
       "[('tagger', <spacy.pipeline.pipes.Tagger at 0x25c35225c70>),\n",
       " ('parser', <spacy.pipeline.pipes.DependencyParser at 0x25c330550a0>),\n",
       " ('ner', <spacy.pipeline.pipes.EntityRecognizer at 0x25c330553a0>),\n",
       " ('animals_component', <function __main__.animals_component(doc)>)]"
      ]
     },
     "execution_count": 8,
     "metadata": {},
     "output_type": "execute_result"
    }
   ],
   "source": [
    "# Add the defined component after 'ner' in pipeline\n",
    "nlp.add_pipe(animals_component, after='ner')\n",
    "\n",
    "nlp.pipeline"
   ]
  },
  {
   "cell_type": "code",
   "execution_count": 9,
   "metadata": {},
   "outputs": [
    {
     "name": "stdout",
     "output_type": "stream",
     "text": [
      "[('Rachel', 'PERSON'), ('cat', 'ANIMAL'), ('Golden Retriever', 'ANIMAL')]\n"
     ]
    }
   ],
   "source": [
    "# Initialize the doc object\n",
    "doc = nlp('Rachel has a cat and a Golden Retriever')\n",
    "\n",
    "# Print the entities in doc\n",
    "print([(entity.text, entity.label_) for entity in doc.ents])"
   ]
  },
  {
   "cell_type": "code",
   "execution_count": null,
   "metadata": {},
   "outputs": [],
   "source": []
  }
 ],
 "metadata": {
  "kernelspec": {
   "display_name": "Python 3",
   "language": "python",
   "name": "python3"
  },
  "language_info": {
   "codemirror_mode": {
    "name": "ipython",
    "version": 3
   },
   "file_extension": ".py",
   "mimetype": "text/x-python",
   "name": "python",
   "nbconvert_exporter": "python",
   "pygments_lexer": "ipython3",
   "version": "3.8.5"
  }
 },
 "nbformat": 4,
 "nbformat_minor": 4
}
