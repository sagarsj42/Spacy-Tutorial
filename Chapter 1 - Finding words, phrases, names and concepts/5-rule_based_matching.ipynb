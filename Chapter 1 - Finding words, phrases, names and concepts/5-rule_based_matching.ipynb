{
 "cells": [
  {
   "cell_type": "code",
   "execution_count": 2,
   "metadata": {},
   "outputs": [],
   "source": [
    "import spacy"
   ]
  },
  {
   "cell_type": "code",
   "execution_count": 3,
   "metadata": {},
   "outputs": [],
   "source": [
    "# Import Matcher module\n",
    "from spacy.matcher import Matcher"
   ]
  },
  {
   "cell_type": "code",
   "execution_count": 4,
   "metadata": {},
   "outputs": [],
   "source": [
    "nlp = spacy.load('en_core_web_sm')"
   ]
  },
  {
   "cell_type": "code",
   "execution_count": 6,
   "metadata": {},
   "outputs": [
    {
     "data": {
      "text/plain": [
       "<spacy.vocab.Vocab at 0x2c6980d41c0>"
      ]
     },
     "execution_count": 6,
     "metadata": {},
     "output_type": "execute_result"
    }
   ],
   "source": [
    "# Shared vocab\n",
    "nlp.vocab"
   ]
  },
  {
   "cell_type": "code",
   "execution_count": 7,
   "metadata": {},
   "outputs": [],
   "source": [
    "# Initialize Matcher instance\n",
    "matcher = Matcher(nlp.vocab)"
   ]
  },
  {
   "cell_type": "code",
   "execution_count": 32,
   "metadata": {},
   "outputs": [
    {
     "data": {
      "text/plain": [
       "[{'TEXT': 'iPhone'}, {'TEXT': 'X'}]"
      ]
     },
     "execution_count": 32,
     "metadata": {},
     "output_type": "execute_result"
    }
   ],
   "source": [
    "# Add pattern to the matcher\n",
    "# Pattern to match the text 'iPhone X', case sensitive\n",
    "pattern = [{'TEXT': 'iPhone'}, {'TEXT': 'X'}]\n",
    "pattern"
   ]
  },
  {
   "cell_type": "code",
   "execution_count": 33,
   "metadata": {},
   "outputs": [],
   "source": [
    "# Add the pattern with unique id IPHONE_PATTERN, no optional callback, and the specification of the pattern\n",
    "matcher.add('IPHONE_PATTERN', None, pattern)"
   ]
  },
  {
   "cell_type": "code",
   "execution_count": 34,
   "metadata": {},
   "outputs": [],
   "source": [
    "doc = nlp('Upcoming iPhone X release date leaked')"
   ]
  },
  {
   "cell_type": "code",
   "execution_count": 35,
   "metadata": {},
   "outputs": [],
   "source": [
    "# Call the matcher on the doc\n",
    "matches = matcher(doc)"
   ]
  },
  {
   "cell_type": "code",
   "execution_count": 36,
   "metadata": {},
   "outputs": [
    {
     "name": "stdout",
     "output_type": "stream",
     "text": [
      "Match Id: 9528407286733565721 Start index: 1 End index: 3\n",
      "Matched span: iPhone X\n"
     ]
    }
   ],
   "source": [
    "# Iterate over the matches\n",
    "\n",
    "for match_id, start_index, end_index in matches:\n",
    "    print('Match Id:', match_id, 'Start index:', start_index, 'End index:', end_index)\n",
    "    \n",
    "    print('Matched span:', doc[start_index:end_index])"
   ]
  },
  {
   "cell_type": "code",
   "execution_count": 37,
   "metadata": {},
   "outputs": [],
   "source": [
    "# 5-token pattern: number, then 3 case-insensitive words, then some punctuation mark\n",
    "pattern = [\n",
    "    {'IS_DIGIT': True},\n",
    "    {'LOWER': 'fifa'},\n",
    "    {'LOWER': 'world'},\n",
    "    {'LOWER': 'cup'},\n",
    "    {'IS_PUNCT': True}\n",
    "]"
   ]
  },
  {
   "cell_type": "code",
   "execution_count": 38,
   "metadata": {},
   "outputs": [],
   "source": [
    "doc = nlp('2018 FIFA World Cup: France won!')"
   ]
  },
  {
   "cell_type": "code",
   "execution_count": 40,
   "metadata": {},
   "outputs": [
    {
     "name": "stdout",
     "output_type": "stream",
     "text": [
      "2018 FIFA World Cup:\n"
     ]
    }
   ],
   "source": [
    "matcher.add('FIFA', None, pattern)\n",
    "\n",
    "for match_id, start_index, end_index in matcher(doc):\n",
    "    print(doc[start_index:end_index])"
   ]
  },
  {
   "cell_type": "code",
   "execution_count": 42,
   "metadata": {},
   "outputs": [
    {
     "name": "stdout",
     "output_type": "stream",
     "text": [
      "love dogs\n",
      "loving cats\n"
     ]
    }
   ],
   "source": [
    "# 2-token pattern: some form of the lemma 'love' in verb PoS followed by a word whose PoS is noun\n",
    "pattern = [\n",
    "    {'LEMMA': 'love', 'POS': 'VERB'},\n",
    "    {'POS': 'NOUN'}\n",
    "]\n",
    "\n",
    "matcher.add('LOVE_VERB_NOUN', None, pattern)\n",
    "\n",
    "doc = nlp('I used to love dogs but now I have started  loving cats more.')\n",
    "\n",
    "for match_id, start_index, end_index in matcher(doc):\n",
    "    print(doc[start_index:end_index])"
   ]
  },
  {
   "cell_type": "code",
   "execution_count": 43,
   "metadata": {},
   "outputs": [
    {
     "name": "stdout",
     "output_type": "stream",
     "text": [
      "bought a smartphone\n",
      "buying apps\n"
     ]
    }
   ],
   "source": [
    "# 3-token pattern: some form of lemma 'buy', followed by an optional determiner (such as 'the'), followed by a noun\n",
    "pattern = [\n",
    "    {'LEMMA': 'buy'},\n",
    "    {'POS': 'DET', 'OP': '?'},         # OP indicates match 0 or 1 time\n",
    "    {'POS': 'NOUN'}\n",
    "]\n",
    "\n",
    "matcher.add('BUY_THE_NOUN', None, pattern)\n",
    "\n",
    "doc = nlp('I bought a smartphone. Now I\\'m buying apps.')\n",
    "\n",
    "for match_id, start_index, end_index in matcher(doc):\n",
    "    print(doc[start_index:end_index])"
   ]
  },
  {
   "cell_type": "markdown",
   "metadata": {},
   "source": [
    "##### Four values taken by OP:\n",
    "\n",
    "* !   Match 0 times\n",
    "* ?   Match 0 or 1 time\n",
    "* \\+   Match 1 or more times\n",
    "* \\*   Match 0 or more times"
   ]
  },
  {
   "cell_type": "code",
   "execution_count": 44,
   "metadata": {},
   "outputs": [
    {
     "name": "stdout",
     "output_type": "stream",
     "text": [
      "iOS 7\n",
      "iOS 11\n",
      "iOS 10\n"
     ]
    }
   ],
   "source": [
    "# Pattern to match iOS versions\n",
    "\n",
    "pattern = [\n",
    "    {'TEXT': 'iOS'},\n",
    "    {'IS_DIGIT': True}\n",
    "]\n",
    "\n",
    "matcher.add('IOS_VERSION', None, pattern)\n",
    "\n",
    "doc = nlp(\n",
    "    \"After making the iOS update you won't notice a radical system-wide \"\n",
    "    \"redesign: nothing like the aesthetic upheaval we got with iOS 7. Most of \"\n",
    "    \"iOS 11's furniture remains the same as in iOS 10. But you will discover \"\n",
    "    \"some tweaks once you delve a little deeper.\"\n",
    ")\n",
    "\n",
    "for match_id, start_index, end_index in matcher(doc):\n",
    "    print(doc[start_index:end_index])"
   ]
  },
  {
   "cell_type": "code",
   "execution_count": 47,
   "metadata": {},
   "outputs": [
    {
     "name": "stdout",
     "output_type": "stream",
     "text": [
      "downloaded Fortnite\n",
      "downloading Minecraft\n"
     ]
    }
   ],
   "source": [
    "# Pattern to match some form of the lemma 'download' followed by a proper noun\n",
    "\n",
    "pattern = [\n",
    "    {'LEMMA': 'downLoAd'},\n",
    "    {'POS': 'PROPN'}\n",
    "]\n",
    "\n",
    "matcher.add('DOWNLOAD_PROPN', None, pattern)\n",
    "\n",
    "doc = nlp(\n",
    "    \"i downloaded Fortnite on my laptop and can't open the game at all. Help? \"\n",
    "    \"so when I was downloading Minecraft, I got the Windows version where it \"\n",
    "    \"is the '.zip' folder and I used the default program to unpack it... do \"\n",
    "    \"I also need to download Winzip?\"\n",
    ")\n",
    "\n",
    "for match_id, start_index, end_index in matcher(doc):\n",
    "    print(doc[start_index:end_index])"
   ]
  },
  {
   "cell_type": "code",
   "execution_count": 48,
   "metadata": {},
   "outputs": [
    {
     "name": "stdout",
     "output_type": "stream",
     "text": [
      "i PRON\n",
      "downloaded VERB\n",
      "Fortnite PROPN\n",
      "on ADP\n",
      "my DET\n",
      "laptop NOUN\n",
      "and CCONJ\n",
      "ca VERB\n",
      "n't PART\n",
      "open VERB\n",
      "the DET\n",
      "game NOUN\n",
      "at ADV\n",
      "all ADV\n",
      ". PUNCT\n",
      "Help VERB\n",
      "? PUNCT\n",
      "so ADV\n",
      "when ADV\n",
      "I PRON\n",
      "was AUX\n",
      "downloading VERB\n",
      "Minecraft PROPN\n",
      ", PUNCT\n",
      "I PRON\n",
      "got VERB\n",
      "the DET\n",
      "Windows PROPN\n",
      "version NOUN\n",
      "where ADV\n",
      "it PRON\n",
      "is AUX\n",
      "the DET\n",
      "' PUNCT\n",
      ".zip PUNCT\n",
      "' PUNCT\n",
      "folder ADV\n",
      "and CCONJ\n",
      "I PRON\n",
      "used VERB\n",
      "the DET\n",
      "default NOUN\n",
      "program NOUN\n",
      "to PART\n",
      "unpack VERB\n",
      "it PRON\n",
      "... PUNCT\n",
      "do AUX\n",
      "I PRON\n",
      "also ADV\n",
      "need VERB\n",
      "to PART\n",
      "download VERB\n",
      "Winzip NOUN\n",
      "? PUNCT\n"
     ]
    }
   ],
   "source": [
    "for token in doc:\n",
    "    print(token.text, token.pos_)"
   ]
  },
  {
   "cell_type": "markdown",
   "metadata": {},
   "source": [
    "Winzip is detected as a noun, so not caught by the pattern."
   ]
  },
  {
   "cell_type": "code",
   "execution_count": 49,
   "metadata": {},
   "outputs": [
    {
     "name": "stdout",
     "output_type": "stream",
     "text": [
      "beautiful design\n",
      "smart search\n",
      "automatic labels\n",
      "optional voice\n",
      "optional voice responses\n"
     ]
    }
   ],
   "source": [
    "# Pattern that matches an adjectuve followed by one or two nouns\n",
    "# i.e. the second noun is optional\n",
    "\n",
    "pattern = [\n",
    "    {'POS': 'ADJ'},\n",
    "    {'POS': 'NOUN'},\n",
    "    {'POS': 'NOUN', 'OP': '?'}\n",
    "]\n",
    "\n",
    "matcher.add('ADJ_NOUN_OPT_NOUN', None, pattern)\n",
    "\n",
    "doc = nlp(\n",
    "    \"Features of the app include a beautiful design, smart search, automatic \"\n",
    "    \"labels and optional voice responses.\"\n",
    ")\n",
    "\n",
    "for match_id, start_index, end_index in matcher(doc):\n",
    "    print(doc[start_index:end_index])"
   ]
  },
  {
   "cell_type": "code",
   "execution_count": null,
   "metadata": {},
   "outputs": [],
   "source": []
  }
 ],
 "metadata": {
  "kernelspec": {
   "display_name": "Python 3",
   "language": "python",
   "name": "python3"
  },
  "language_info": {
   "codemirror_mode": {
    "name": "ipython",
    "version": 3
   },
   "file_extension": ".py",
   "mimetype": "text/x-python",
   "name": "python",
   "nbconvert_exporter": "python",
   "pygments_lexer": "ipython3",
   "version": "3.8.5"
  }
 },
 "nbformat": 4,
 "nbformat_minor": 4
}
