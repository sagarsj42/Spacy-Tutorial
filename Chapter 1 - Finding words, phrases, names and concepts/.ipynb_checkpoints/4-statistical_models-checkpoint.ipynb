{
 "cells": [
  {
   "cell_type": "code",
   "execution_count": 1,
   "metadata": {},
   "outputs": [],
   "source": [
    "# Predict linguistic attributes: PoS tags, syntactic dependencies, named entities\n",
    "# Use pre-trained model package en_core_web_sm\n",
    "\n",
    "import spacy"
   ]
  },
  {
   "cell_type": "code",
   "execution_count": 3,
   "metadata": {},
   "outputs": [
    {
     "data": {
      "text/plain": [
       "<spacy.lang.en.English at 0x230aae83250>"
      ]
     },
     "execution_count": 3,
     "metadata": {},
     "output_type": "execute_result"
    }
   ],
   "source": [
    "# Load the model package by name & return the nlp object\n",
    "nlp = spacy.load('en_core_web_sm')\n",
    "nlp"
   ]
  },
  {
   "cell_type": "code",
   "execution_count": 4,
   "metadata": {},
   "outputs": [
    {
     "name": "stdout",
     "output_type": "stream",
     "text": [
      "Joey PROPN\n",
      "ate VERB\n",
      "the DET\n",
      "pizza NOUN\n",
      "all ADV\n",
      "by ADP\n",
      "himself PRON\n",
      ". PUNCT\n"
     ]
    }
   ],
   "source": [
    "# PoS tag indicated by attribute pos_\n",
    "\n",
    "doc = nlp('Joey ate the pizza all by himself.')\n",
    "for token in doc:\n",
    "    print(token.text, token.pos_)"
   ]
  },
  {
   "cell_type": "code",
   "execution_count": 5,
   "metadata": {},
   "outputs": [
    {
     "name": "stdout",
     "output_type": "stream",
     "text": [
      "Joey nsubj\n",
      "ate ROOT\n",
      "the det\n",
      "pizza dobj\n",
      "all advmod\n",
      "by prep\n",
      "himself pobj\n",
      ". punct\n"
     ]
    }
   ],
   "source": [
    "# The predicted dependency label is indicated by dep_ attribute\n",
    "\n",
    "# nsubj: nominal subject\n",
    "# dobj: drirect object\n",
    "# det: determiner\n",
    "# advmod: adverbial modifier\n",
    "\n",
    "for token in doc:\n",
    "    print(token.text, token.dep_)"
   ]
  },
  {
   "cell_type": "code",
   "execution_count": 6,
   "metadata": {},
   "outputs": [
    {
     "name": "stdout",
     "output_type": "stream",
     "text": [
      "Joey ate\n",
      "ate ate\n",
      "the pizza\n",
      "pizza ate\n",
      "all by\n",
      "by ate\n",
      "himself by\n",
      ". ate\n"
     ]
    }
   ],
   "source": [
    "# Syntactic head token (parent token a word is attached to) is given by head attribute\n",
    "for token in doc:\n",
    "    print(token.text, token.head.text)"
   ]
  },
  {
   "cell_type": "code",
   "execution_count": 8,
   "metadata": {},
   "outputs": [
    {
     "name": "stdout",
     "output_type": "stream",
     "text": [
      "Joey PERSON\n"
     ]
    }
   ],
   "source": [
    "# Predicting named entities\n",
    "# ents attribute of doc\n",
    "# Returns a span object (tokens from doc object) that contain the entity name and label\n",
    "\n",
    "for entity in doc.ents:\n",
    "    print(entity.text, entity.label_)"
   ]
  },
  {
   "cell_type": "code",
   "execution_count": 9,
   "metadata": {},
   "outputs": [
    {
     "name": "stdout",
     "output_type": "stream",
     "text": [
      "Apple ORG\n",
      "U.K. GPE\n",
      "$1 billion MONEY\n"
     ]
    }
   ],
   "source": [
    "doc = nlp('Apple is looking at buying U.K. startup for $1 billion')\n",
    "for entity in doc.ents:\n",
    "    print(entity.text, entity.label_)"
   ]
  },
  {
   "cell_type": "raw",
   "metadata": {},
   "source": [
    "GPE stands for Geopolical Entity: country / city / state"
   ]
  },
  {
   "cell_type": "code",
   "execution_count": 15,
   "metadata": {},
   "outputs": [
    {
     "data": {
      "text/plain": [
       "It’s official: Apple is the first U.S. public company to reach a $1 trillion market value"
      ]
     },
     "execution_count": 15,
     "metadata": {},
     "output_type": "execute_result"
    }
   ],
   "source": [
    "text = 'It’s official: Apple is the first U.S. public company to reach a $1 trillion market value'\n",
    "doc = nlp(text)\n",
    "doc"
   ]
  },
  {
   "cell_type": "code",
   "execution_count": 29,
   "metadata": {},
   "outputs": [
    {
     "name": "stdout",
     "output_type": "stream",
     "text": [
      "It          PRON      nsubj     ’s          \n",
      "’s          VERB      ccomp     is          \n",
      "official    ADJ       dobj      ’s          \n",
      ":           PUNCT     punct     is          \n",
      "Apple       PROPN     nsubj     is          \n",
      "is          AUX       ROOT      is          \n",
      "the         DET       det       company     \n",
      "first       ADJ       amod      company     \n",
      "U.S.        PROPN     nmod      company     \n",
      "public      ADJ       amod      company     \n",
      "company     NOUN      attr      is          \n",
      "to          PART      aux       reach       \n",
      "reach       VERB      relcl     company     \n",
      "a           DET       det       value       \n",
      "$           SYM       quantmod  trillion    \n",
      "1           NUM       compound  trillion    \n",
      "trillion    NUM       nummod    value       \n",
      "market      NOUN      compound  value       \n",
      "value       NOUN      dobj      reach       \n"
     ]
    }
   ],
   "source": [
    "for token in doc:\n",
    "    token_text = token.text\n",
    "    token_pos = token.pos_\n",
    "    token_dep = token.dep_\n",
    "    token_head = token.head.text\n",
    "    \n",
    "    print(f'{token_text:<12}{token_pos:<10}{token_dep:<10}{token_head:<12}')"
   ]
  },
  {
   "cell_type": "code",
   "execution_count": 28,
   "metadata": {},
   "outputs": [
    {
     "name": "stdout",
     "output_type": "stream",
     "text": [
      "Apple ORG\n",
      "first ORDINAL\n",
      "U.S. GPE\n",
      "$1 trillion MONEY\n"
     ]
    }
   ],
   "source": [
    "entities = doc.ents\n",
    "\n",
    "for entity in entities:\n",
    "    print(entity.text, entity.label_)"
   ]
  },
  {
   "cell_type": "code",
   "execution_count": 34,
   "metadata": {},
   "outputs": [
    {
     "name": "stdout",
     "output_type": "stream",
     "text": [
      "Upcoming iPhone X PERSON\n",
      "Apple ORG\n",
      "\n",
      "Missing entity:  iPhone X\n"
     ]
    }
   ],
   "source": [
    "# The model fails to recognize iPhone X as an entity\n",
    "text = 'Upcoming iPhone X release date leaked as Apple reveals pre-order'\n",
    "\n",
    "doc = nlp(text)\n",
    "\n",
    "for entity in doc.ents:\n",
    "    print(entity.text, entity.label_)\n",
    "    \n",
    "print('\\nMissing entity: ', doc[1:3])"
   ]
  },
  {
   "cell_type": "raw",
   "metadata": {},
   "source": [
    "Quick definitions can be obtained by using spacy.explain"
   ]
  },
  {
   "cell_type": "code",
   "execution_count": 10,
   "metadata": {},
   "outputs": [
    {
     "data": {
      "text/plain": [
       "'Countries, cities, states'"
      ]
     },
     "execution_count": 10,
     "metadata": {},
     "output_type": "execute_result"
    }
   ],
   "source": [
    "spacy.explain('GPE')"
   ]
  },
  {
   "cell_type": "code",
   "execution_count": 12,
   "metadata": {},
   "outputs": [
    {
     "data": {
      "text/plain": [
       "'prepositional modifier'"
      ]
     },
     "execution_count": 12,
     "metadata": {},
     "output_type": "execute_result"
    }
   ],
   "source": [
    "spacy.explain('prep')"
   ]
  },
  {
   "cell_type": "code",
   "execution_count": 13,
   "metadata": {},
   "outputs": [
    {
     "data": {
      "text/plain": [
       "'object of preposition'"
      ]
     },
     "execution_count": 13,
     "metadata": {},
     "output_type": "execute_result"
    }
   ],
   "source": [
    "spacy.explain('pobj')"
   ]
  },
  {
   "cell_type": "code",
   "execution_count": 14,
   "metadata": {},
   "outputs": [
    {
     "data": {
      "text/plain": [
       "'noun, proper singular'"
      ]
     },
     "execution_count": 14,
     "metadata": {},
     "output_type": "execute_result"
    }
   ],
   "source": [
    "spacy.explain('NNP')"
   ]
  },
  {
   "cell_type": "code",
   "execution_count": null,
   "metadata": {},
   "outputs": [],
   "source": []
  }
 ],
 "metadata": {
  "kernelspec": {
   "display_name": "Python 3",
   "language": "python",
   "name": "python3"
  },
  "language_info": {
   "codemirror_mode": {
    "name": "ipython",
    "version": 3
   },
   "file_extension": ".py",
   "mimetype": "text/x-python",
   "name": "python",
   "nbconvert_exporter": "python",
   "pygments_lexer": "ipython3",
   "version": "3.8.5"
  }
 },
 "nbformat": 4,
 "nbformat_minor": 4
}
