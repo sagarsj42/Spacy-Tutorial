{
 "cells": [
  {
   "cell_type": "code",
   "execution_count": 1,
   "metadata": {},
   "outputs": [],
   "source": [
    "import spacy"
   ]
  },
  {
   "cell_type": "code",
   "execution_count": 2,
   "metadata": {},
   "outputs": [],
   "source": [
    "nlp = spacy.load('en_core_web_sm')\n",
    "doc = nlp('Berlin looks like a nice city')"
   ]
  },
  {
   "cell_type": "code",
   "execution_count": 4,
   "metadata": {},
   "outputs": [
    {
     "name": "stdout",
     "output_type": "stream",
     "text": [
      "Proper noun: Berlin Verb: looks\n"
     ]
    }
   ],
   "source": [
    "# Task: Find proper nouns followed by a verb\n",
    "# Bad practice: To create lists for tokens, and pos tags, and iterate over\n",
    "# Best practice: Use native attributes as below\n",
    "\n",
    "# Iterate over tokens in doc object\n",
    "for token in doc:\n",
    "    \n",
    "    # Current PoS tag\n",
    "    if token.pos_ == 'PROPN':\n",
    "        \n",
    "        # Check if next PoS is a verb\n",
    "        # Use native index attribute\n",
    "        if doc[token.i + 1].pos_ == 'VERB':\n",
    "            print('Proper noun:', token.text, 'Verb:', doc[token.i + 1].text)"
   ]
  },
  {
   "cell_type": "code",
   "execution_count": null,
   "metadata": {},
   "outputs": [],
   "source": []
  }
 ],
 "metadata": {
  "kernelspec": {
   "display_name": "Python 3",
   "language": "python",
   "name": "python3"
  },
  "language_info": {
   "codemirror_mode": {
    "name": "ipython",
    "version": 3
   },
   "file_extension": ".py",
   "mimetype": "text/x-python",
   "name": "python",
   "nbconvert_exporter": "python",
   "pygments_lexer": "ipython3",
   "version": "3.8.5"
  }
 },
 "nbformat": 4,
 "nbformat_minor": 4
}
